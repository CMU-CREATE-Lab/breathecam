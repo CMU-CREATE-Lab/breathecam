{
 "metadata": {
  "name": "",
  "signature": "sha256:82b7f18912d7868d92c71c73dedebf802e32a00cf65d762c6f2c2f2e33e0b123"
 },
 "nbformat": 3,
 "nbformat_minor": 0,
 "worksheets": [
  {
   "cells": [
    {
     "cell_type": "code",
     "collapsed": false,
     "input": [
      "from numpy import *"
     ],
     "language": "python",
     "metadata": {},
     "outputs": [],
     "prompt_number": 36
    },
    {
     "cell_type": "code",
     "collapsed": false,
     "input": [
      "heinz_camera_lla = {'lat': 40.442588, 'lon': -80.001047, 'alt': 335}"
     ],
     "language": "python",
     "metadata": {},
     "outputs": [],
     "prompt_number": 54
    },
    {
     "cell_type": "code",
     "collapsed": false,
     "input": [
      "# From https://code.google.com/p/pysatel/source/browse/trunk/coord.py?r=22\n",
      "import math\n",
      "\n",
      "# Constants defined by the World Geodetic System 1984 (WGS84), in km\n",
      "a = 6378.137\n",
      "b = 6356.7523142\n",
      "esq = 6.69437999014 * 0.001\n",
      "e1sq = 6.73949674228 * 0.001\n",
      "f = 1 / 298.257223563\n",
      "\n",
      "def lla2ecef(lla):\n",
      "    lat = lla['lat']\n",
      "    lon = lla['lon']\n",
      "    alt = lla['alt'] / 1000.0\n",
      "    \"\"\"Convert geodetic coordinates to ECEF.\"\"\"\n",
      "    lat, lon = math.radians(lat), math.radians(lon)\n",
      "    xi = math.sqrt(1 - esq * math.sin(lat))\n",
      "    x = (a / xi + alt) * math.cos(lat) * math.cos(lon)\n",
      "    y = (a / xi + alt) * math.cos(lat) * math.sin(lon)\n",
      "    z = (a / xi * (1 - esq) + alt) * math.sin(lat)\n",
      "    return array((x * 1000.0, y * 1000.0, z * 1000.0))\n",
      "\n",
      "print lla2ecef(heinz_camera_lla)"
     ],
     "language": "python",
     "metadata": {},
     "outputs": [
      {
       "output_type": "stream",
       "stream": "stdout",
       "text": [
        "[  844702.27302787 -4791056.59957095  4118879.14878502]\n"
       ]
      }
     ],
     "prompt_number": 55
    },
    {
     "cell_type": "code",
     "collapsed": false,
     "input": [
      "# Return pixel (x, y) from camera-centered (x, y, z)\n",
      "\n",
      "# imodel is intrinsic camera model\n",
      "#   width, height in pixels\n",
      "\n",
      "def pixel_from_ccxyz(cc, imodel):\n",
      "\n",
      "    yaw = math.atan2(cc[0], cc[2])\n",
      "    print '  yaw is %g' % yaw\n",
      "    pixel_x = yaw * imodel['pixels_per_radian'] + imodel['width'] * 0.5\n",
      "    print '  pixel_x is %g' % pixel_x\n",
      "\n",
      "    tilt = math.atan2(cc[1], math.sqrt(cc[0] * cc[0] + cc[2] * cc[2]))\n",
      "    print '  tilt is %g' % tilt\n",
      "    pixel_y = tilt * imodel['pixels_per_radian'] + imodel['height'] * 0.5\n",
      "    print '  pixel_y is %g' % pixel_y\n",
      "    \n",
      "    return (pixel_x, pixel_y)\n",
      "    \n",
      "heinz_model = {\n",
      "    'height': 1688,\n",
      "    'width': 7141,\n",
      "    'pixels_per_radian': 2273,\n",
      "    'ecef': lla2ecef(heinz_camera_lla),\n",
      "    'rotation': (1, 0, 0, 0)\n",
      "}\n",
      "\n",
      "straight_ahead_cc = array((0, 0, 1000))\n",
      "right_face_cc = array((500, 0, 0))\n",
      "left_face_cc = array((-500, 0, 0))\n",
      "upwards_45_cc = array((0, -25, 25))\n",
      "downwards_45_cc = array((0, 25, 25))\n",
      "downwards_45_left_face_cc = array((-25, 25, 0))\n",
      "\n",
      "print 'straight ahead'\n",
      "pixel_from_ccxyz(straight_ahead_cc, heinz_imodel)\n",
      "print 'right face'\n",
      "pixel_from_ccxyz(right_face_cc, heinz_imodel)\n",
      "print 'left face'\n",
      "pixel_from_ccxyz(left_face_cc, heinz_imodel)\n",
      "print 'upwards 45'\n",
      "pixel_from_ccxyz(upwards_45_cc, heinz_imodel)\n",
      "print 'downwards 45'\n",
      "pixel_from_ccxyz(downwards_45_cc, heinz_imodel)\n",
      "print 'downwards 45 left face'\n",
      "pixel_from_ccxyz(downwards_45_left_face_cc, heinz_imodel)"
     ],
     "language": "python",
     "metadata": {},
     "outputs": [
      {
       "output_type": "stream",
       "stream": "stdout",
       "text": [
        "straight ahead\n",
        "  yaw is 0\n",
        "  pixel_x is 3570.5\n",
        "  tilt is 0\n",
        "  pixel_y is 844\n",
        "right face\n",
        "  yaw is 1.5708\n",
        "  pixel_x is 7140.92\n",
        "  tilt is 0\n",
        "  pixel_y is 844\n",
        "left face\n",
        "  yaw is -1.5708\n",
        "  pixel_x is 0.0799492\n",
        "  tilt is 0\n",
        "  pixel_y is 844\n",
        "upwards 45\n",
        "  yaw is 0\n",
        "  pixel_x is 3570.5\n",
        "  tilt is -0.785398\n",
        "  pixel_y is -941.21\n",
        "downwards 45\n",
        "  yaw is 0\n",
        "  pixel_x is 3570.5\n",
        "  tilt is 0.785398\n",
        "  pixel_y is 2629.21\n",
        "downwards 45 left face\n",
        "  yaw is -1.5708\n",
        "  pixel_x is 0.0799492\n",
        "  tilt is 0.785398\n",
        "  pixel_y is 2629.21\n"
       ]
      },
      {
       "metadata": {},
       "output_type": "pyout",
       "prompt_number": 56,
       "text": [
        "(0.07994919520024268, 2629.2100254024)"
       ]
      }
     ],
     "prompt_number": 56
    },
    {
     "cell_type": "code",
     "collapsed": false,
     "input": [
      "# Quaternions, from http://stackoverflow.com/questions/4870393/rotating-coordinate-system-via-a-quaternion\n",
      "\n",
      "def normalize(v, tolerance=0.00001):\n",
      "    mag2 = sum(n * n for n in v)\n",
      "    if abs(mag2 - 1.0) > tolerance:\n",
      "        mag = sqrt(mag2)\n",
      "        v = tuple(n / mag for n in v)\n",
      "    return v\n",
      "\n",
      "def q_mult(q1, q2):\n",
      "    w1, x1, y1, z1 = q1\n",
      "    w2, x2, y2, z2 = q2\n",
      "    w = w1 * w2 - x1 * x2 - y1 * y2 - z1 * z2\n",
      "    x = w1 * x2 + x1 * w2 + y1 * z2 - z1 * y2\n",
      "    y = w1 * y2 + y1 * w2 + z1 * x2 - x1 * z2\n",
      "    z = w1 * z2 + z1 * w2 + x1 * y2 - y1 * x2\n",
      "    return w, x, y, z\n",
      "\n",
      "def q_conjugate(q):\n",
      "    q = normalize(q)\n",
      "    w, x, y, z = q\n",
      "    return (w, -x, -y, -z)\n",
      "\n",
      "def qv_mult(q1, v1):\n",
      "    v1 = normalize(v1)\n",
      "    q2 = (0.0,) + v1\n",
      "    return q_mult(q_mult(q1, q2), q_conjugate(q1))[1:]\n",
      " "
     ],
     "language": "python",
     "metadata": {},
     "outputs": [],
     "prompt_number": 57
    },
    {
     "cell_type": "code",
     "collapsed": false,
     "input": [
      "def pixel_from_ecef(ecef, model):\n",
      "    # Convert from ecef to camera-centered\n",
      "    cc = qv_mult(model['rotation'], ecef - model['ecef'])\n",
      "    return pixel_from_ccxyz(cc, model)"
     ],
     "language": "python",
     "metadata": {},
     "outputs": [],
     "prompt_number": 58
    },
    {
     "cell_type": "code",
     "collapsed": false,
     "input": [
      "# PNC Park home plate, from Google Earth\n",
      "# TO DO:  locate ~10 reference points\n",
      "\n",
      "home_plate_lla = {'lat':40.447057, 'lon':-80.006170, 'alt':222}\n",
      "home_plate_xy\n",
      "\n",
      "pixel_from_ecef(lla2ecef(home_plate_lla), heinz_model)"
     ],
     "language": "python",
     "metadata": {},
     "outputs": [
      {
       "output_type": "stream",
       "stream": "stdout",
       "text": [
        "  yaw is -1.02325\n",
        "  pixel_x is 1244.64\n",
        "  tilt is 0.509573\n",
        "  pixel_y is 2002.26\n"
       ]
      },
      {
       "metadata": {},
       "output_type": "pyout",
       "prompt_number": 59,
       "text": [
        "(1244.6421898614976, 2002.2590517509745)"
       ]
      }
     ],
     "prompt_number": 59
    },
    {
     "cell_type": "code",
     "collapsed": false,
     "input": [
      "# TODO: use something like scipy.optimize.leastsq to find external and pixels per radian\n"
     ],
     "language": "python",
     "metadata": {},
     "outputs": []
    }
   ],
   "metadata": {}
  }
 ]
}